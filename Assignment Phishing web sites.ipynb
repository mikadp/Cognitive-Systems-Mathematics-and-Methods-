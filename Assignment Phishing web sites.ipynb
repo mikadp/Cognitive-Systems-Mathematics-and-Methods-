{
 "cells": [
  {
   "cell_type": "markdown",
   "metadata": {},
   "source": [
    "\n",
    "# Phising web sites\n",
    "goal is to construct a small yet useful decision tree that predicts whether a website is a phishing site or not.\n"
   ]
  },
  {
   "cell_type": "markdown",
   "metadata": {},
   "source": [
    "# Import data\n",
    "First import librarys and load data from csv and get column names to list"
   ]
  },
  {
   "cell_type": "code",
   "execution_count": 2,
   "metadata": {},
   "outputs": [
    {
     "data": {
      "text/html": [
       "<div>\n",
       "<style scoped>\n",
       "    .dataframe tbody tr th:only-of-type {\n",
       "        vertical-align: middle;\n",
       "    }\n",
       "\n",
       "    .dataframe tbody tr th {\n",
       "        vertical-align: top;\n",
       "    }\n",
       "\n",
       "    .dataframe thead th {\n",
       "        text-align: right;\n",
       "    }\n",
       "</style>\n",
       "<table border=\"1\" class=\"dataframe\">\n",
       "  <thead>\n",
       "    <tr style=\"text-align: right;\">\n",
       "      <th></th>\n",
       "      <th>having_IP_Address</th>\n",
       "      <th>URL_Length</th>\n",
       "      <th>Shortining_Service</th>\n",
       "      <th>having_At_Symbol</th>\n",
       "      <th>double_slash_redirecting</th>\n",
       "      <th>Prefix_Suffix</th>\n",
       "      <th>having_Sub_Domain</th>\n",
       "      <th>SSLfinal_State</th>\n",
       "      <th>Domain_registeration_length</th>\n",
       "      <th>Favicon</th>\n",
       "      <th>...</th>\n",
       "      <th>popUpWindow</th>\n",
       "      <th>Iframe</th>\n",
       "      <th>age_of_domain</th>\n",
       "      <th>DNSRecord</th>\n",
       "      <th>web_traffic</th>\n",
       "      <th>Page_Rank</th>\n",
       "      <th>Google_Index</th>\n",
       "      <th>Links_pointing_to_page</th>\n",
       "      <th>Statistical_report</th>\n",
       "      <th>Result</th>\n",
       "    </tr>\n",
       "  </thead>\n",
       "  <tbody>\n",
       "    <tr>\n",
       "      <th>0</th>\n",
       "      <td>-1</td>\n",
       "      <td>1</td>\n",
       "      <td>1</td>\n",
       "      <td>1</td>\n",
       "      <td>-1</td>\n",
       "      <td>-1</td>\n",
       "      <td>-1</td>\n",
       "      <td>-1</td>\n",
       "      <td>-1</td>\n",
       "      <td>1</td>\n",
       "      <td>...</td>\n",
       "      <td>1</td>\n",
       "      <td>1</td>\n",
       "      <td>-1</td>\n",
       "      <td>-1</td>\n",
       "      <td>-1</td>\n",
       "      <td>-1</td>\n",
       "      <td>1</td>\n",
       "      <td>1</td>\n",
       "      <td>-1</td>\n",
       "      <td>-1</td>\n",
       "    </tr>\n",
       "    <tr>\n",
       "      <th>1</th>\n",
       "      <td>1</td>\n",
       "      <td>1</td>\n",
       "      <td>1</td>\n",
       "      <td>1</td>\n",
       "      <td>1</td>\n",
       "      <td>-1</td>\n",
       "      <td>0</td>\n",
       "      <td>1</td>\n",
       "      <td>-1</td>\n",
       "      <td>1</td>\n",
       "      <td>...</td>\n",
       "      <td>1</td>\n",
       "      <td>1</td>\n",
       "      <td>-1</td>\n",
       "      <td>-1</td>\n",
       "      <td>0</td>\n",
       "      <td>-1</td>\n",
       "      <td>1</td>\n",
       "      <td>1</td>\n",
       "      <td>1</td>\n",
       "      <td>-1</td>\n",
       "    </tr>\n",
       "    <tr>\n",
       "      <th>2</th>\n",
       "      <td>1</td>\n",
       "      <td>0</td>\n",
       "      <td>1</td>\n",
       "      <td>1</td>\n",
       "      <td>1</td>\n",
       "      <td>-1</td>\n",
       "      <td>-1</td>\n",
       "      <td>-1</td>\n",
       "      <td>-1</td>\n",
       "      <td>1</td>\n",
       "      <td>...</td>\n",
       "      <td>1</td>\n",
       "      <td>1</td>\n",
       "      <td>1</td>\n",
       "      <td>-1</td>\n",
       "      <td>1</td>\n",
       "      <td>-1</td>\n",
       "      <td>1</td>\n",
       "      <td>0</td>\n",
       "      <td>-1</td>\n",
       "      <td>-1</td>\n",
       "    </tr>\n",
       "    <tr>\n",
       "      <th>3</th>\n",
       "      <td>1</td>\n",
       "      <td>0</td>\n",
       "      <td>1</td>\n",
       "      <td>1</td>\n",
       "      <td>1</td>\n",
       "      <td>-1</td>\n",
       "      <td>-1</td>\n",
       "      <td>-1</td>\n",
       "      <td>1</td>\n",
       "      <td>1</td>\n",
       "      <td>...</td>\n",
       "      <td>1</td>\n",
       "      <td>1</td>\n",
       "      <td>-1</td>\n",
       "      <td>-1</td>\n",
       "      <td>1</td>\n",
       "      <td>-1</td>\n",
       "      <td>1</td>\n",
       "      <td>-1</td>\n",
       "      <td>1</td>\n",
       "      <td>-1</td>\n",
       "    </tr>\n",
       "    <tr>\n",
       "      <th>4</th>\n",
       "      <td>1</td>\n",
       "      <td>0</td>\n",
       "      <td>-1</td>\n",
       "      <td>1</td>\n",
       "      <td>1</td>\n",
       "      <td>-1</td>\n",
       "      <td>1</td>\n",
       "      <td>1</td>\n",
       "      <td>-1</td>\n",
       "      <td>1</td>\n",
       "      <td>...</td>\n",
       "      <td>-1</td>\n",
       "      <td>1</td>\n",
       "      <td>-1</td>\n",
       "      <td>-1</td>\n",
       "      <td>0</td>\n",
       "      <td>-1</td>\n",
       "      <td>1</td>\n",
       "      <td>1</td>\n",
       "      <td>1</td>\n",
       "      <td>1</td>\n",
       "    </tr>\n",
       "  </tbody>\n",
       "</table>\n",
       "<p>5 rows × 31 columns</p>\n",
       "</div>"
      ],
      "text/plain": [
       "   having_IP_Address  URL_Length  Shortining_Service  having_At_Symbol  \\\n",
       "0                 -1           1                   1                 1   \n",
       "1                  1           1                   1                 1   \n",
       "2                  1           0                   1                 1   \n",
       "3                  1           0                   1                 1   \n",
       "4                  1           0                  -1                 1   \n",
       "\n",
       "   double_slash_redirecting  Prefix_Suffix  having_Sub_Domain  SSLfinal_State  \\\n",
       "0                        -1             -1                 -1              -1   \n",
       "1                         1             -1                  0               1   \n",
       "2                         1             -1                 -1              -1   \n",
       "3                         1             -1                 -1              -1   \n",
       "4                         1             -1                  1               1   \n",
       "\n",
       "   Domain_registeration_length  Favicon   ...    popUpWindow  Iframe  \\\n",
       "0                           -1        1   ...              1       1   \n",
       "1                           -1        1   ...              1       1   \n",
       "2                           -1        1   ...              1       1   \n",
       "3                            1        1   ...              1       1   \n",
       "4                           -1        1   ...             -1       1   \n",
       "\n",
       "   age_of_domain  DNSRecord  web_traffic  Page_Rank  Google_Index  \\\n",
       "0             -1         -1           -1         -1             1   \n",
       "1             -1         -1            0         -1             1   \n",
       "2              1         -1            1         -1             1   \n",
       "3             -1         -1            1         -1             1   \n",
       "4             -1         -1            0         -1             1   \n",
       "\n",
       "   Links_pointing_to_page  Statistical_report  Result  \n",
       "0                       1                  -1      -1  \n",
       "1                       1                   1      -1  \n",
       "2                       0                  -1      -1  \n",
       "3                      -1                   1      -1  \n",
       "4                       1                   1       1  \n",
       "\n",
       "[5 rows x 31 columns]"
      ]
     },
     "execution_count": 2,
     "metadata": {},
     "output_type": "execute_result"
    }
   ],
   "source": [
    "import pandas as pd\n",
    "import numpy as np\n",
    "import sklearn\n",
    "import csv\n",
    "from sklearn import tree\n",
    "import graphviz\n",
    "from sklearn.metrics import confusion_matrix\n",
    "from sklearn.metrics import classification_report\n",
    "from sklearn import datasets, linear_model\n",
    "from sklearn.model_selection import cross_val_score\n",
    "from IPython.display import IFrame\n",
    "\n",
    "#read data\n",
    "df = pd.read_csv('phishing.csv', sep=';')\n",
    "\n",
    "#drop rows with missing data\n",
    "df.dropna(axis=0, how='any', inplace=True)\n",
    "\n",
    "# save column headings into a list\n",
    "colnames = df.columns.get_values()\n",
    "\n",
    "#df['Result'] = df['Result'].astype(pd.api.types.CategoricalDtype(ordered=False))\n",
    "#df.dtypes()\n",
    "df.head()"
   ]
  },
  {
   "cell_type": "markdown",
   "metadata": {},
   "source": [
    "# Extract\n",
    "Choosing all columns to variable X and extract response variable 'Result' to Y\n",
    "Then choose depht of classifier, which means how big the decision tree is"
   ]
  },
  {
   "cell_type": "code",
   "execution_count": 3,
   "metadata": {},
   "outputs": [],
   "source": [
    "#Extract explanatory variables into a data frame\n",
    "X = df.loc[:, 'having_IP_Address' : 'Statistical_report' ]\n",
    "\n",
    "#Extract response variable\n",
    "Y = df.loc[:, 'Result']"
   ]
  },
  {
   "cell_type": "code",
   "execution_count": 4,
   "metadata": {
    "scrolled": true
   },
   "outputs": [
    {
     "data": {
      "text/plain": [
       "DecisionTreeClassifier(class_weight=None, criterion='gini', max_depth=2,\n",
       "            max_features=None, max_leaf_nodes=None,\n",
       "            min_impurity_decrease=0.0, min_impurity_split=None,\n",
       "            min_samples_leaf=1, min_samples_split=2,\n",
       "            min_weight_fraction_leaf=0.0, presort=False, random_state=None,\n",
       "            splitter='best')"
      ]
     },
     "execution_count": 4,
     "metadata": {},
     "output_type": "execute_result"
    }
   ],
   "source": [
    "#Decision tree classification\n",
    "classifier = tree.DecisionTreeClassifier(max_depth=2)\n",
    "classifier.fit(X,Y)"
   ]
  },
  {
   "cell_type": "markdown",
   "metadata": {},
   "source": [
    "# Visualize\n",
    "Visualizing tree by choosing all column names to tree and class_name tells how it would separate tree\n",
    "Then render the image and choose how big it would be"
   ]
  },
  {
   "cell_type": "code",
   "execution_count": 5,
   "metadata": {
    "scrolled": true
   },
   "outputs": [
    {
     "data": {
      "text/html": [
       "\n",
       "        <iframe\n",
       "            width=\"1920\"\n",
       "            height=\"1080\"\n",
       "            src=\"Phising web sites 9.pdf\"\n",
       "            frameborder=\"0\"\n",
       "            allowfullscreen\n",
       "        ></iframe>\n",
       "        "
      ],
      "text/plain": [
       "<IPython.lib.display.IFrame at 0x22b6675a860>"
      ]
     },
     "execution_count": 5,
     "metadata": {},
     "output_type": "execute_result"
    }
   ],
   "source": [
    "# visualize\n",
    "dot_data = tree.export_graphviz(classifier, out_file=None, feature_names=colnames[:30], class_names=['no','yes'])\n",
    "graph = graphviz.Source(dot_data)\n",
    "graph.render(\"Phising web sites 9\")\n",
    "\n",
    "IFrame(\"Phising web sites 9.pdf\", width=900, height=800)"
   ]
  },
  {
   "cell_type": "code",
   "execution_count": 6,
   "metadata": {},
   "outputs": [
    {
     "name": "stdout",
     "output_type": "stream",
     "text": [
      "Confusion matrix: \n",
      " [[4425  473]\n",
      " [ 563 5594]]\n",
      "Accuracy from training set = 0.906\n",
      "              precision    recall  f1-score   support\n",
      "\n",
      "          No       0.89      0.90      0.90      4898\n",
      "         Yes       0.92      0.91      0.92      6157\n",
      "\n",
      "   micro avg       0.91      0.91      0.91     11055\n",
      "   macro avg       0.90      0.91      0.91     11055\n",
      "weighted avg       0.91      0.91      0.91     11055\n",
      "\n"
     ]
    }
   ],
   "source": [
    "# Predict\n",
    "Y_pred = classifier.predict(X)\n",
    "\n",
    "#Output confusion matrix\n",
    "cm = confusion_matrix(Y, Y_pred)\n",
    "print(\"Confusion matrix: \\n\",cm)\n",
    "\n",
    "accuracy = (cm[0][0]+cm[1][1])/(cm[0][0]+cm[1][1]+cm[0][1]+cm[1][0])\n",
    "print(\"Accuracy from training set = %.3f\" % (accuracy))\n",
    "\n",
    "print(classification_report(Y, Y_pred, target_names=['No', 'Yes']))"
   ]
  },
  {
   "cell_type": "code",
   "execution_count": 7,
   "metadata": {},
   "outputs": [
    {
     "name": "stdout",
     "output_type": "stream",
     "text": [
      "Accuracies from 5 individual folds:\n",
      "[0.89692586 0.90461121 0.91316147 0.90135747 0.91538462]\n",
      "Accuracy calcuted using 5-fold cross validation = 0.906\n"
     ]
    }
   ],
   "source": [
    "#cross-validate\n",
    "#number of folds\n",
    "k = 5\n",
    "scores = cross_val_score(estimator=classifier,\n",
    "                        X=X,\n",
    "                        y=Y,\n",
    "                        scoring=\"accuracy\",\n",
    "                        cv=k)\n",
    "print(\"Accuracies from %d individual folds:\" % k)\n",
    "print(scores)\n",
    "print(\"Accuracy calcuted using %d-fold cross validation = %.3f\" % (k, scores.mean()))"
   ]
  },
  {
   "cell_type": "code",
   "execution_count": 55,
   "metadata": {},
   "outputs": [
    {
     "name": "stdout",
     "output_type": "stream",
     "text": [
      "min_samples_leaf: 201\n",
      "  Accuracy calculated from the training set = 0.923\n",
      "  Accuracy calculated using 5-fold cross validation = 0.908\n",
      "min_samples_leaf: 181\n",
      "  Accuracy calculated from the training set = 0.922\n",
      "  Accuracy calculated using 5-fold cross validation = 0.914\n",
      "min_samples_leaf: 161\n",
      "  Accuracy calculated from the training set = 0.925\n",
      "  Accuracy calculated using 5-fold cross validation = 0.912\n",
      "min_samples_leaf: 141\n",
      "  Accuracy calculated from the training set = 0.925\n",
      "  Accuracy calculated using 5-fold cross validation = 0.915\n",
      "min_samples_leaf: 121\n",
      "  Accuracy calculated from the training set = 0.926\n",
      "  Accuracy calculated using 5-fold cross validation = 0.919\n",
      "min_samples_leaf: 101\n",
      "  Accuracy calculated from the training set = 0.929\n",
      "  Accuracy calculated using 5-fold cross validation = 0.916\n",
      "min_samples_leaf: 81\n",
      "  Accuracy calculated from the training set = 0.930\n",
      "  Accuracy calculated using 5-fold cross validation = 0.918\n",
      "min_samples_leaf: 61\n",
      "  Accuracy calculated from the training set = 0.936\n",
      "  Accuracy calculated using 5-fold cross validation = 0.921\n",
      "min_samples_leaf: 41\n",
      "  Accuracy calculated from the training set = 0.936\n",
      "  Accuracy calculated using 5-fold cross validation = 0.927\n",
      "min_samples_leaf: 21\n",
      "  Accuracy calculated from the training set = 0.943\n",
      "  Accuracy calculated using 5-fold cross validation = 0.926\n",
      "min_samples_leaf: 1\n",
      "  Accuracy calculated from the training set = 0.990\n",
      "  Accuracy calculated using 5-fold cross validation = 0.951\n"
     ]
    }
   ],
   "source": [
    "# Experiment with min_samples_leaf to find the best model.\n",
    "\n",
    "for leaf in range(201,-1,-20):\n",
    "    print(\"min_samples_leaf: %d\" % leaf)\n",
    "    classifier = tree.DecisionTreeClassifier(min_samples_leaf=leaf)\n",
    "    classifier.fit(X,Y)\n",
    "    Y_pred = classifier.predict(X)\n",
    "    cm = confusion_matrix(Y, Y_pred)\n",
    "    accuracy = (cm[0][0]+cm[1][1])/(cm[0][0]+cm[1][1]+cm[0][1]+cm[1][0])\n",
    "    print(\"  Accuracy calculated from the training set = %.3f\" % (accuracy))\n",
    "    \n",
    "    scores = cross_val_score(estimator=classifier,\n",
    "                        X=X,\n",
    "                        y=Y,\n",
    "                        scoring=\"accuracy\",\n",
    "                        cv=k)\n",
    "    print(\"  Accuracy calculated using %d-fold cross validation = %.3f\" % (k, scores.mean()))"
   ]
  },
  {
   "cell_type": "markdown",
   "metadata": {},
   "source": [
    "# Instructions and results"
   ]
  },
  {
   "cell_type": "markdown",
   "metadata": {},
   "source": [
    "First our decision tree shows that is web site have SSL sertificate and able to make SSL connection. \n",
    "next thing to review is URL of anchor which checks if website and anchor text have same domain name. \n",
    "gini index shows how tighly the observation in node fall into the same class if its zero all cases in the node fall into single target. So if SSL final state is less than 0.5 it has no SSL connection next step is if URL of anchor is less than 0.5 if thats also true then gini index is 0.0 which means that web site if phishing."
   ]
  },
  {
   "cell_type": "code",
   "execution_count": null,
   "metadata": {},
   "outputs": [],
   "source": []
  }
 ],
 "metadata": {
  "kernelspec": {
   "display_name": "Python 3",
   "language": "python",
   "name": "python3"
  },
  "language_info": {
   "codemirror_mode": {
    "name": "ipython",
    "version": 3
   },
   "file_extension": ".py",
   "mimetype": "text/x-python",
   "name": "python",
   "nbconvert_exporter": "python",
   "pygments_lexer": "ipython3",
   "version": "3.6.7"
  }
 },
 "nbformat": 4,
 "nbformat_minor": 2
}
